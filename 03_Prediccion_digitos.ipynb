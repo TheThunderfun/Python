{
  "cells": [
    {
      "cell_type": "code",
      "execution_count": null,
      "id": "92b0ce21",
      "metadata": {
        "_cell_guid": "b1076dfc-b9ad-4769-8c92-a6c4dae69d19",
        "_uuid": "8f2839f25d086af736a60e9eeb907d3b93b6e0e5",
        "execution": {
          "iopub.execute_input": "2022-11-04T02:16:48.033643Z",
          "iopub.status.busy": "2022-11-04T02:16:48.031889Z",
          "iopub.status.idle": "2022-11-04T02:16:48.052822Z",
          "shell.execute_reply": "2022-11-04T02:16:48.049974Z"
        },
        "papermill": {
          "duration": 0.036576,
          "end_time": "2022-11-04T02:16:48.056993",
          "exception": false,
          "start_time": "2022-11-04T02:16:48.020417",
          "status": "completed"
        },
        "tags": [],
        "id": "92b0ce21"
      },
      "outputs": [],
      "source": [
        "import numpy as np\n",
        "import pandas as pd\n",
        "\n",
        "import os, warnings\n",
        "import matplotlib.pyplot as plt\n",
        "from matplotlib import gridspec\n",
        "import random\n",
        "\n",
        "from sklearn.model_selection import train_test_split\n",
        "\n",
        "from tensorflow import keras\n",
        "from tensorflow.keras import layers\n",
        "\n",
        "import tensorflow as tf\n",
        "from tensorflow.keras.callbacks import EarlyStopping"
      ]
    },
    {
      "cell_type": "markdown",
      "source": [
        "# 1. Analizar los datos"
      ],
      "metadata": {
        "id": "w7o4-WeBxYEg"
      },
      "id": "w7o4-WeBxYEg"
    },
    {
      "cell_type": "markdown",
      "source": [],
      "metadata": {
        "id": "nBL3scTp6b-I"
      },
      "id": "nBL3scTp6b-I"
    },
    {
      "cell_type": "markdown",
      "id": "7e9163b4",
      "metadata": {
        "papermill": {
          "duration": 0.006382,
          "end_time": "2022-11-04T02:16:48.073712",
          "exception": false,
          "start_time": "2022-11-04T02:16:48.067330",
          "status": "completed"
        },
        "tags": [],
        "id": "7e9163b4"
      },
      "source": [
        "Ahora sí, vamos a cargar todas las herramientas para empezar a trabajar, para comenzar Keras y Tensorflow. Voy a cargar lo mínimo necesario para poder aunque sea VER una imagen"
      ]
    },
    {
      "cell_type": "code",
      "execution_count": null,
      "id": "2987faed",
      "metadata": {
        "execution": {
          "iopub.execute_input": "2022-11-04T02:16:48.090254Z",
          "iopub.status.busy": "2022-11-04T02:16:48.089303Z",
          "iopub.status.idle": "2022-11-04T02:16:55.959188Z",
          "shell.execute_reply": "2022-11-04T02:16:55.957875Z"
        },
        "papermill": {
          "duration": 7.881215,
          "end_time": "2022-11-04T02:16:55.961920",
          "exception": false,
          "start_time": "2022-11-04T02:16:48.080705",
          "status": "completed"
        },
        "tags": [],
        "id": "2987faed"
      },
      "outputs": [],
      "source": [
        "# Matplotlib\n",
        "plt.rc('figure', autolayout=True)\n",
        "plt.rc('axes', labelweight='bold', labelsize='large',\n",
        "       titleweight='bold', titlesize=18, titlepad=10)\n",
        "plt.rc('image', cmap='magma')\n",
        "warnings.filterwarnings(\"ignore\")"
      ]
    },
    {
      "cell_type": "markdown",
      "id": "cdcd9f08",
      "metadata": {
        "papermill": {
          "duration": 0.005935,
          "end_time": "2022-11-04T02:16:55.974089",
          "exception": false,
          "start_time": "2022-11-04T02:16:55.968154",
          "status": "completed"
        },
        "tags": [],
        "id": "cdcd9f08"
      },
      "source": [
        "Ahora sí, cargamos los datasets"
      ]
    },
    {
      "cell_type": "code",
      "source": [
        "drive_test = \"https://drive.google.com/file/d/1hBoK0ONDI05BKZi3uO9S3Q6v-H0O9NsU/view?usp=sharing\"\n",
        "drive_train = \"https://drive.google.com/file/d/1r7xj5Rq2Vtl_TDTgiDsgahM8-pJrk5w3/view?usp=sharing\"\n",
        "\n",
        "ruta_test = 'https://drive.google.com/uc?export=download&id='+drive_test.split('/')[-2]\n",
        "ruta_train = 'https://drive.google.com/uc?export=download&id='+drive_train.split('/')[-2]"
      ],
      "metadata": {
        "id": "2o-MmCfvZwD1"
      },
      "id": "2o-MmCfvZwD1",
      "execution_count": null,
      "outputs": []
    },
    {
      "cell_type": "code",
      "execution_count": null,
      "id": "67aad01d",
      "metadata": {
        "execution": {
          "iopub.execute_input": "2022-11-04T02:16:55.988586Z",
          "iopub.status.busy": "2022-11-04T02:16:55.987854Z",
          "iopub.status.idle": "2022-11-04T02:17:01.858822Z",
          "shell.execute_reply": "2022-11-04T02:17:01.857587Z"
        },
        "papermill": {
          "duration": 5.88103,
          "end_time": "2022-11-04T02:17:01.861462",
          "exception": false,
          "start_time": "2022-11-04T02:16:55.980432",
          "status": "completed"
        },
        "tags": [],
        "id": "67aad01d"
      },
      "outputs": [],
      "source": [
        "test = pd.read_csv(ruta_test)\n",
        "train = pd.read_csv(ruta_train)\n",
        "train2 = train.drop('label',axis=1)\n",
        "labels = train.pop('label')\n",
        "# De paso, vemos qué tienen\n",
        "train2.head()"
      ]
    },
    {
      "cell_type": "code",
      "execution_count": null,
      "id": "dcb062b7",
      "metadata": {
        "execution": {
          "iopub.execute_input": "2022-11-04T02:17:01.877973Z",
          "iopub.status.busy": "2022-11-04T02:17:01.877579Z",
          "iopub.status.idle": "2022-11-04T02:17:01.885051Z",
          "shell.execute_reply": "2022-11-04T02:17:01.883777Z"
        },
        "papermill": {
          "duration": 0.019215,
          "end_time": "2022-11-04T02:17:01.887289",
          "exception": false,
          "start_time": "2022-11-04T02:17:01.868074",
          "status": "completed"
        },
        "tags": [],
        "id": "dcb062b7"
      },
      "outputs": [],
      "source": [
        "test.shape,train.shape"
      ]
    },
    {
      "cell_type": "markdown",
      "source": [
        "# 2. Evaluamos el proceso y preparamos los datos"
      ],
      "metadata": {
        "id": "Psm6QexFxhc2"
      },
      "id": "Psm6QexFxhc2"
    },
    {
      "cell_type": "markdown",
      "id": "b11d197e",
      "metadata": {
        "papermill": {
          "duration": 0.006323,
          "end_time": "2022-11-04T02:17:01.900607",
          "exception": false,
          "start_time": "2022-11-04T02:17:01.894284",
          "status": "completed"
        },
        "tags": [],
        "id": "b11d197e"
      },
      "source": [
        "Vamos a tratar de graficar algo. Primero tenemos que identificar que a cada fila (de 784 columnas/píxeles) en realidad corresponden a un cuadrado de 28x28"
      ]
    },
    {
      "cell_type": "code",
      "execution_count": null,
      "id": "de1809c6",
      "metadata": {
        "execution": {
          "iopub.execute_input": "2022-11-04T02:17:01.915741Z",
          "iopub.status.busy": "2022-11-04T02:17:01.915332Z",
          "iopub.status.idle": "2022-11-04T02:17:02.137109Z",
          "shell.execute_reply": "2022-11-04T02:17:02.135732Z"
        },
        "papermill": {
          "duration": 0.232375,
          "end_time": "2022-11-04T02:17:02.139711",
          "exception": false,
          "start_time": "2022-11-04T02:17:01.907336",
          "status": "completed"
        },
        "tags": [],
        "id": "de1809c6"
      },
      "outputs": [],
      "source": [
        "x_train = train2.values[101].reshape( 28, 28, 1)\n",
        "x_test  = test.values[101].reshape(28, 28, 1)\n",
        "\n",
        "print('Train Data shape      :', x_train.shape)\n",
        "print('Test Data shape       :', x_test.shape)\n",
        "\n",
        "\n",
        "plt.imshow(x_test)"
      ]
    },
    {
      "cell_type": "markdown",
      "id": "7b7d64cb",
      "metadata": {
        "papermill": {
          "duration": 0.006797,
          "end_time": "2022-11-04T02:17:02.153449",
          "exception": false,
          "start_time": "2022-11-04T02:17:02.146652",
          "status": "completed"
        },
        "tags": [],
        "id": "7b7d64cb"
      },
      "source": [
        "Éxito! Ahora tratemos de graficar 1 número aleatorio, y ahora sí le damos forma al array. Tenemos que hacer reshape de TODO el dataset.\n"
      ]
    },
    {
      "cell_type": "code",
      "execution_count": null,
      "id": "4ac35a93",
      "metadata": {
        "execution": {
          "iopub.execute_input": "2022-11-04T02:17:02.169401Z",
          "iopub.status.busy": "2022-11-04T02:17:02.168979Z",
          "iopub.status.idle": "2022-11-04T02:17:02.442399Z",
          "shell.execute_reply": "2022-11-04T02:17:02.441355Z"
        },
        "papermill": {
          "duration": 0.284412,
          "end_time": "2022-11-04T02:17:02.444865",
          "exception": false,
          "start_time": "2022-11-04T02:17:02.160453",
          "status": "completed"
        },
        "tags": [],
        "id": "4ac35a93"
      },
      "outputs": [],
      "source": [
        "test_RS = test.values.reshape(test.shape[0],28,28)\n",
        "test_RS.shape\n",
        "\n",
        "i = random.randint(0, test.shape[0])\n",
        "\n",
        "plt.imshow(test_RS[i])"
      ]
    },
    {
      "cell_type": "markdown",
      "id": "e02a404c",
      "metadata": {
        "papermill": {
          "duration": 0.006915,
          "end_time": "2022-11-04T02:17:02.459094",
          "exception": false,
          "start_time": "2022-11-04T02:17:02.452179",
          "status": "completed"
        },
        "tags": [],
        "id": "e02a404c"
      },
      "source": [
        "Con el train, tenemos que hacer lo mismo, pero ésta vez le tenemos que agregar la columna \"label\" que le sacamos"
      ]
    },
    {
      "cell_type": "code",
      "execution_count": null,
      "id": "86f4300a",
      "metadata": {
        "execution": {
          "iopub.execute_input": "2022-11-04T02:17:02.475412Z",
          "iopub.status.busy": "2022-11-04T02:17:02.474970Z",
          "iopub.status.idle": "2022-11-04T02:17:03.207722Z",
          "shell.execute_reply": "2022-11-04T02:17:03.206461Z"
        },
        "papermill": {
          "duration": 0.744267,
          "end_time": "2022-11-04T02:17:03.210715",
          "exception": false,
          "start_time": "2022-11-04T02:17:02.466448",
          "status": "completed"
        },
        "tags": [],
        "id": "86f4300a"
      },
      "outputs": [],
      "source": [
        "train_RS = train2.values.reshape(train2.shape[0],28,28)\n",
        "train_RS.shape\n",
        "\n",
        "r = random.randint(0, train2.shape[0])\n",
        "\n",
        "\n",
        "plt.figure(figsize=(5,5))\n",
        "for i in range(16):\n",
        "    r = random.randint(0, train2.shape[0])\n",
        "    image = train_RS[r]\n",
        "    plt.subplot(4, 4, i+1)\n",
        "    plt.imshow(tf.squeeze(image))\n",
        "    plt.axis('off')\n",
        "plt.show()\n",
        "\n"
      ]
    },
    {
      "cell_type": "markdown",
      "id": "388aa817",
      "metadata": {
        "papermill": {
          "duration": 0.008097,
          "end_time": "2022-11-04T02:17:03.227270",
          "exception": false,
          "start_time": "2022-11-04T02:17:03.219173",
          "status": "completed"
        },
        "tags": [],
        "id": "388aa817"
      },
      "source": [
        "Definimos las variables para entrenamiento, y para testing"
      ]
    },
    {
      "cell_type": "code",
      "execution_count": null,
      "id": "3a12a463",
      "metadata": {
        "execution": {
          "iopub.execute_input": "2022-11-04T02:17:03.246559Z",
          "iopub.status.busy": "2022-11-04T02:17:03.245424Z",
          "iopub.status.idle": "2022-11-04T02:17:03.675319Z",
          "shell.execute_reply": "2022-11-04T02:17:03.673958Z"
        },
        "papermill": {
          "duration": 0.442042,
          "end_time": "2022-11-04T02:17:03.677729",
          "exception": false,
          "start_time": "2022-11-04T02:17:03.235687",
          "status": "completed"
        },
        "tags": [],
        "id": "3a12a463"
      },
      "outputs": [],
      "source": [
        "X_train, X_test, y_train, y_test = train_test_split(train_RS, labels, test_size=0.2, random_state=42)\n",
        "X_train.shape,y_train.shape"
      ]
    },
    {
      "cell_type": "markdown",
      "source": [
        "# 3. Generar el modelo"
      ],
      "metadata": {
        "id": "11QcxgKkxrkA"
      },
      "id": "11QcxgKkxrkA"
    },
    {
      "cell_type": "markdown",
      "id": "c9948b1f",
      "metadata": {
        "papermill": {
          "duration": 0.008121,
          "end_time": "2022-11-04T02:17:03.694561",
          "exception": false,
          "start_time": "2022-11-04T02:17:03.686440",
          "status": "completed"
        },
        "tags": [],
        "id": "c9948b1f"
      },
      "source": [
        "definimos el modelo"
      ]
    },
    {
      "cell_type": "code",
      "execution_count": null,
      "id": "2b6197b4",
      "metadata": {
        "execution": {
          "iopub.execute_input": "2022-11-04T02:17:03.713935Z",
          "iopub.status.busy": "2022-11-04T02:17:03.712930Z",
          "iopub.status.idle": "2022-11-04T02:17:03.844980Z",
          "shell.execute_reply": "2022-11-04T02:17:03.843769Z"
        },
        "papermill": {
          "duration": 0.144606,
          "end_time": "2022-11-04T02:17:03.847824",
          "exception": false,
          "start_time": "2022-11-04T02:17:03.703218",
          "status": "completed"
        },
        "tags": [],
        "id": "2b6197b4"
      },
      "outputs": [],
      "source": [
        "modelo = keras.Sequential([\n",
        "    layers.Flatten(input_shape=(28, 28)),\n",
        "    layers.Dense(128, activation='relu'),\n",
        "    layers.Dropout(rate=0.3),\n",
        "    layers.BatchNormalization(),\n",
        "    layers.Dense(128, activation='relu'),\n",
        "    layers.Dense(10)\n",
        "])\n",
        "\n",
        "modelo.compile(\n",
        "    optimizer = 'adam',\n",
        "    loss = tf.keras.losses.SparseCategoricalCrossentropy(from_logits=True),\n",
        "    metrics=['accuracy'],\n",
        ")"
      ]
    },
    {
      "cell_type": "markdown",
      "source": [
        "# 4. Entrenar el modelo"
      ],
      "metadata": {
        "id": "CtxIRkiYxvAm"
      },
      "id": "CtxIRkiYxvAm"
    },
    {
      "cell_type": "markdown",
      "id": "6c04eab2",
      "metadata": {
        "papermill": {
          "duration": 0.008308,
          "end_time": "2022-11-04T02:17:03.864874",
          "exception": false,
          "start_time": "2022-11-04T02:17:03.856566",
          "status": "completed"
        },
        "tags": [],
        "id": "6c04eab2"
      },
      "source": [
        "*-Musica de Rocky-* Entrenamos el modelo\n"
      ]
    },
    {
      "cell_type": "code",
      "execution_count": null,
      "id": "829a8fda",
      "metadata": {
        "execution": {
          "iopub.execute_input": "2022-11-04T02:17:03.883897Z",
          "iopub.status.busy": "2022-11-04T02:17:03.883468Z",
          "iopub.status.idle": "2022-11-04T02:18:16.406727Z",
          "shell.execute_reply": "2022-11-04T02:18:16.405696Z"
        },
        "papermill": {
          "duration": 72.535524,
          "end_time": "2022-11-04T02:18:16.409104",
          "exception": false,
          "start_time": "2022-11-04T02:17:03.873580",
          "status": "completed"
        },
        "tags": [],
        "id": "829a8fda"
      },
      "outputs": [],
      "source": [
        "modelo.fit(\n",
        "    X_train,y_train,\n",
        "    epochs=20,\n",
        ")"
      ]
    },
    {
      "cell_type": "markdown",
      "source": [
        "# 5. Realizar inferencias"
      ],
      "metadata": {
        "id": "qQy3LPBvxzv_"
      },
      "id": "qQy3LPBvxzv_"
    },
    {
      "cell_type": "markdown",
      "id": "3d0fef87",
      "metadata": {
        "papermill": {
          "duration": 0.092594,
          "end_time": "2022-11-04T02:18:16.595565",
          "exception": false,
          "start_time": "2022-11-04T02:18:16.502971",
          "status": "completed"
        },
        "tags": [],
        "id": "3d0fef87"
      },
      "source": [
        "Listo! A probar..."
      ]
    },
    {
      "cell_type": "code",
      "execution_count": null,
      "id": "acc8fd37",
      "metadata": {
        "execution": {
          "iopub.execute_input": "2022-11-04T02:18:16.783063Z",
          "iopub.status.busy": "2022-11-04T02:18:16.782641Z",
          "iopub.status.idle": "2022-11-04T02:18:17.526807Z",
          "shell.execute_reply": "2022-11-04T02:18:17.524856Z"
        },
        "papermill": {
          "duration": 0.841729,
          "end_time": "2022-11-04T02:18:17.529525",
          "exception": false,
          "start_time": "2022-11-04T02:18:16.687796",
          "status": "completed"
        },
        "tags": [],
        "id": "acc8fd37"
      },
      "outputs": [],
      "source": [
        "test_loss, test_acc = modelo.evaluate(X_test, y_test, verbose=2)\n",
        "\n",
        "print('\\nTest accuracy:', test_acc)"
      ]
    },
    {
      "cell_type": "markdown",
      "source": [
        "# 6. Crear predicciones"
      ],
      "metadata": {
        "id": "GmBKK-dkx5iv"
      },
      "id": "GmBKK-dkx5iv"
    },
    {
      "cell_type": "code",
      "execution_count": null,
      "id": "c4128fa1",
      "metadata": {
        "execution": {
          "iopub.execute_input": "2022-11-04T02:18:17.717072Z",
          "iopub.status.busy": "2022-11-04T02:18:17.716392Z",
          "iopub.status.idle": "2022-11-04T02:18:19.585719Z",
          "shell.execute_reply": "2022-11-04T02:18:19.584476Z"
        },
        "papermill": {
          "duration": 1.966512,
          "end_time": "2022-11-04T02:18:19.588844",
          "exception": false,
          "start_time": "2022-11-04T02:18:17.622332",
          "status": "completed"
        },
        "tags": [],
        "id": "c4128fa1"
      },
      "outputs": [],
      "source": [
        "predicciones = modelo.predict(test_RS)\n",
        "df2 = pd.DataFrame(predicciones)\n",
        "df2.head()\n",
        "i = random.randint(0, test.shape[0])\n",
        "pred=pd.Series(predicciones[i])\n",
        "plt.imshow(test_RS[i]),print(pred.idxmax())\n"
      ]
    },
    {
      "cell_type": "markdown",
      "source": [
        "# 7. Procesar / Enviar / Mostrar los datos"
      ],
      "metadata": {
        "id": "hcBB7QLMx-Cv"
      },
      "id": "hcBB7QLMx-Cv"
    },
    {
      "cell_type": "code",
      "execution_count": null,
      "id": "7f2e36b7",
      "metadata": {
        "id": "7f2e36b7"
      },
      "outputs": [],
      "source": [
        "# Seleccionamos una imagen random\n",
        "i = random.randint(0, test.shape[0])\n",
        "\n",
        "# Le decimos al algoritmo que prediga, y nos indique qué número es.\n",
        "pred=pd.Series(predicciones[i])\n",
        "print (f\"El número que se identificó en la imagen es {pred.idxmax()}\")\n",
        "print(\"-----------------\")\n",
        "# y finalmente le pedimos a Python que grafique... A ver si es cierto\n",
        "print(\"La imagen que el algoritmo vio es: \")\n",
        "plt.imshow(test_RS[i])"
      ]
    },
    {
      "cell_type": "markdown",
      "source": [
        "# Probemos con una imagen generada en el momento"
      ],
      "metadata": {
        "id": "62KYKPY3yGFm"
      },
      "id": "62KYKPY3yGFm"
    },
    {
      "cell_type": "code",
      "execution_count": null,
      "id": "cad5d5b9",
      "metadata": {
        "id": "cad5d5b9"
      },
      "outputs": [],
      "source": [
        "# import required libraries\n",
        "from PIL import Image\n",
        "\n",
        "# read an image\n",
        "img = Image.open('numero.png')\n",
        "\n",
        "# convert image object into array\n",
        "matrizImagen = np.asarray(img)\n",
        "\n",
        "foto = np.resize(matrizImagen[:,:,1], (1,28,28))\n",
        "img"
      ]
    },
    {
      "cell_type": "code",
      "execution_count": null,
      "id": "963aa14e",
      "metadata": {
        "id": "963aa14e"
      },
      "outputs": [],
      "source": [
        "# Comprobamos a ver si reconoce el número...\n",
        "\n",
        "pr= modelo.predict(foto)\n",
        "prediccion = pd.Series(pr[0])\n",
        "prediccion.idxmax() #toma el número máximo de la serie"
      ]
    }
  ],
  "metadata": {
    "kernelspec": {
      "display_name": "Python 3",
      "language": "python",
      "name": "python3"
    },
    "language_info": {
      "codemirror_mode": {
        "name": "ipython",
        "version": 3
      },
      "file_extension": ".py",
      "mimetype": "text/x-python",
      "name": "python",
      "nbconvert_exporter": "python",
      "pygments_lexer": "ipython3",
      "version": "3.11.4"
    },
    "papermill": {
      "default_parameters": {},
      "duration": 108.260163,
      "end_time": "2022-11-04T02:18:27.358224",
      "environment_variables": {},
      "exception": null,
      "input_path": "__notebook__.ipynb",
      "output_path": "__notebook__.ipynb",
      "parameters": {},
      "start_time": "2022-11-04T02:16:39.098061",
      "version": "2.3.4"
    },
    "colab": {
      "provenance": []
    }
  },
  "nbformat": 4,
  "nbformat_minor": 5
}